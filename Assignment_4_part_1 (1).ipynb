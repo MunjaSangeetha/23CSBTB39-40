{
  "nbformat": 4,
  "nbformat_minor": 0,
  "metadata": {
    "colab": {
      "provenance": []
    },
    "kernelspec": {
      "name": "python3",
      "display_name": "Python 3"
    },
    "language_info": {
      "name": "python"
    }
  },
  "cells": [
    {
      "cell_type": "code",
      "execution_count": null,
      "metadata": {
        "colab": {
          "base_uri": "https://localhost:8080/"
        },
        "id": "MEk3rWtzS48S",
        "outputId": "5b4a8254-dd0e-43b1-9b5b-d8bbce350766"
      },
      "outputs": [
        {
          "output_type": "stream",
          "name": "stdout",
          "text": [
            "Number of rows: 545\n",
            "Number of cols: 13\n"
          ]
        }
      ],
      "source": [
        "import numpy as np\n",
        "import pandas as pd\n",
        "import matplotlib.pyplot as plt\n",
        "import seaborn as sns\n",
        "\n",
        "housing = pd.DataFrame(pd.read_csv(\"/content/Housing .csv\"))\n",
        "housing.head()\n",
        "housing.tail()\n",
        "rows = len(housing.axes[0])\n",
        "cols = len(housing.axes[1])\n",
        "print(\"Number of rows:\",rows)\n",
        "print(\"Number of cols:\",cols)\n"
      ]
    }
  ]
}