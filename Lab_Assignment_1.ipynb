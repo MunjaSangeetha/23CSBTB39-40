{
  "nbformat": 4,
  "nbformat_minor": 0,
  "metadata": {
    "colab": {
      "provenance": []
    },
    "kernelspec": {
      "name": "python3",
      "display_name": "Python 3"
    },
    "language_info": {
      "name": "python"
    }
  },
  "cells": [
    {
      "cell_type": "code",
      "source": [
        "#1.list"
      ],
      "metadata": {
        "id": "ZpeKmHu1Q_E8"
      },
      "execution_count": null,
      "outputs": []
    },
    {
      "cell_type": "code",
      "source": [
        "import numpy as np\n",
        "import pandas as pd\n",
        "list1 = [10,20,30,40,50,60,70,80,90,100]\n",
        "fruits=[\"Apple\",\"Banana\",\"Cherry\",\"Orange\"]\n",
        "print(\"list:\", list1)\n",
        "print(\"Fruits:\" , fruits)"
      ],
      "metadata": {
        "colab": {
          "base_uri": "https://localhost:8080/"
        },
        "id": "hZBCngyZRtxQ",
        "outputId": "0f3fddd7-1d9a-4228-c74f-39bd574b0ab8"
      },
      "execution_count": 7,
      "outputs": [
        {
          "output_type": "stream",
          "name": "stdout",
          "text": [
            "list: [10, 20, 30, 40, 50, 60, 70, 80, 90, 100]\n",
            "Fruits: ['Apple', 'Banana', 'Cherry', 'Orange']\n"
          ]
        }
      ]
    },
    {
      "cell_type": "code",
      "source": [
        "#2.Arrays\n",
        "list2 = [1,2,3,5,7,9,23,45,78]\n",
        "list3 = [4,5,7,9,3,56,89]\n",
        "array1 = np.array(list2)\n",
        "array2 = np.array(list3)\n",
        "print(\"Array:\" , array1)\n",
        "print(\"Array:\" , array2)\n"
      ],
      "metadata": {
        "colab": {
          "base_uri": "https://localhost:8080/"
        },
        "id": "0thWj8bxR1vz",
        "outputId": "e001c16b-5d4d-4c99-c73a-92333e805999"
      },
      "execution_count": 8,
      "outputs": [
        {
          "output_type": "stream",
          "name": "stdout",
          "text": [
            "Array: [ 1  2  3  5  7  9 23 45 78]\n",
            "Array: [ 4  5  7  9  3 56 89]\n"
          ]
        }
      ]
    },
    {
      "cell_type": "code",
      "source": [
        "#3. Identify their type using type()\n",
        "\n",
        "print(\"Type of list1:\" , type(list))\n",
        "print(\"Type of fruits:\" , type(fruits))\n",
        "print(\"Type of array1:\", type(array1))\n",
        "print(\"Type of array2:\",type(array2))"
      ],
      "metadata": {
        "colab": {
          "base_uri": "https://localhost:8080/"
        },
        "id": "Eqll3ZBHR3_E",
        "outputId": "a1ac6c53-94e9-4409-c0e1-7263e263d44d"
      },
      "execution_count": 9,
      "outputs": [
        {
          "output_type": "stream",
          "name": "stdout",
          "text": [
            "Type of list1: <class 'type'>\n",
            "Type of fruits: <class 'list'>\n",
            "Type of array1: <class 'numpy.ndarray'>\n",
            "Type of array2: <class 'numpy.ndarray'>\n"
          ]
        }
      ]
    },
    {
      "cell_type": "code",
      "source": [
        "#4.Perform mathematical operations on these datasets created - multiplication, division,poweroff Performing mathematical operations\n",
        "\n",
        "import numpy as np\n",
        "\n",
        "# Example arrays\n",
        "array3 = np.array([11, 12, 13, 14])\n",
        "array4 = np.array([55, 66, 77, 88])\n",
        "\n",
        "# Perform mathematical operations\n",
        "multiplication = array3 * array4\n",
        "division = np.divide(array3, array4)  # Handles division by zero safely\n",
        "poweroff = array3 ** 4\n",
        "\n",
        "# Print results\n",
        "print(\"Multiplication:\\n\", multiplication)\n",
        "print(\"Division:\\n\", division)\n",
        "print(\"Power of 2:\\n\", poweroff)\n"
      ],
      "metadata": {
        "colab": {
          "base_uri": "https://localhost:8080/"
        },
        "id": "0Hwn8a7AR_TY",
        "outputId": "07411920-dd6c-4abe-8cda-081cedb0face"
      },
      "execution_count": 13,
      "outputs": [
        {
          "output_type": "stream",
          "name": "stdout",
          "text": [
            "Multiplication:\n",
            " [ 605  792 1001 1232]\n",
            "Division:\n",
            " [0.2        0.18181818 0.16883117 0.15909091]\n",
            "Power of 2:\n",
            " [14641 20736 28561 38416]\n"
          ]
        }
      ]
    },
    {
      "cell_type": "code",
      "source": [
        "#5.Combine text with Numpy fuction to generate a textual output - ”Addition of Two:array1 +array2\n",
        "add_result = array1 + array2\n",
        "output = f\"Addition of Two:\\n{array1} + {array2} = {add_result}\"\n",
        "print(output)\n"
      ],
      "metadata": {
        "colab": {
          "base_uri": "https://localhost:8080/"
        },
        "id": "YlxMe1vHSqYB",
        "outputId": "a70a7a13-35e9-47b7-f11c-41667a316028"
      },
      "execution_count": 14,
      "outputs": [
        {
          "output_type": "stream",
          "name": "stdout",
          "text": [
            "Addition of Two:\n",
            "[1 2 3 4] + [5 6 7 8] = [ 6  8 10 12]\n"
          ]
        }
      ]
    },
    {
      "cell_type": "code",
      "source": [
        "#6. implement np.sin(), log(), log2(), np.exp())\n",
        "array3 = np.array([1, 2, 3, 4])\n",
        "sin_result = np.sin(array3)\n",
        "log_result = np.log(array3)\n",
        "log2_result = np.log2(array3)\n",
        "exp_result = np.exp(array3)\n",
        "print(f\"Sin Result: {sin_result}\")\n",
        "print(f\"Log Result: {log_result}\")\n",
        "print(f\"Log2 Result: {log2_result}\")\n",
        "print(f\"Exp Result: {exp_result}\")"
      ],
      "metadata": {
        "colab": {
          "base_uri": "https://localhost:8080/"
        },
        "id": "-6lXUg2oStZN",
        "outputId": "5275cdfc-9ff4-4237-b97c-56b2b3675cdf"
      },
      "execution_count": 15,
      "outputs": [
        {
          "output_type": "stream",
          "name": "stdout",
          "text": [
            "Sin Result: [ 0.84147098  0.90929743  0.14112001 -0.7568025 ]\n",
            "Log Result: [0.         0.69314718 1.09861229 1.38629436]\n",
            "Log2 Result: [0.        1.        1.5849625 2.       ]\n",
            "Exp Result: [ 2.71828183  7.3890561  20.08553692 54.59815003]\n"
          ]
        }
      ]
    }
  ]
}